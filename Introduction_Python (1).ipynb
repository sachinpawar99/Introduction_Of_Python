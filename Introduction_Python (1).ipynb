{
 "cells": [
  {
   "cell_type": "code",
   "execution_count": 6,
   "metadata": {},
   "outputs": [],
   "source": [
    "#PYTHON\n",
    "\n",
    "Developed by Guido van Rossum in the early 1990s\n",
    " Named after Monty Python\n",
    " Available on eniac\n",
    " Available for download from #http://www.python.org\n",
    "\n",
    "\n",
    "    "
   ]
  },
  {
   "cell_type": "code",
   "execution_count": null,
   "metadata": {},
   "outputs": [],
   "source": [
    "#INTRODUCTION_OF_PYTHON\n",
    "Interpreted language: work with an evaluator\n",
    "for language expressions (like DrJava, but\n",
    "more flexible)\n",
    " Dynamically typed: variables do not have a\n",
    "predefined type\n",
    " Rich, built-in collection types:\n",
    " Lists\n",
    " Tuples\n",
    " Dictionaries (maps)\n",
    " Sets\n",
    " Concise"
   ]
  },
  {
   "cell_type": "code",
   "execution_count": null,
   "metadata": {},
   "outputs": [],
   "source": [
    "#Python_History_and_Versions\n",
    "Python laid its foundation in the late 1980s.\n",
    "1.The implementation of Python was started in the December 1989 by Guido Van Rossum at CWI in Netherland.\n",
    "2.In February 1991, van Rossum published the code (labeled version 0.9.0) to alt.sources.\n",
    "3.In 1994, Python 1.0 was released with new features like: lambda, map, filter, and reduce.\n",
    "4.Python 2.0 added new features like: list comprehensions, garbage collection system.\n",
    "5.On December 3, 2008, Python 3.0 (also called \"Py3K\") was released. It was designed to rectify fundamental flaw of the language.\n",
    "6.ABC programming language is said to be the predecessor of Python language which was capable of Exception Handling and interfacing with Amoeba Operating System.\n",
    "Python is influenced by following programming languages:\n"
   ]
  },
  {
   "cell_type": "code",
   "execution_count": null,
   "metadata": {},
   "outputs": [],
   "source": [
    "#WHY_PYTHON\n",
    " Good example of scripting language\n",
    " “Pythonic” style is very concise\n",
    " Powerful but unobtrusive object system\n",
    " Every value is an object\n",
    " Powerful collection and iteration\n",
    "abstractions\n",
    " Dynamic typing makes generics easy"
   ]
  },
  {
   "cell_type": "code",
   "execution_count": null,
   "metadata": {},
   "outputs": [],
   "source": [
    "#Language features\n",
    "1. Indentation instead of braces\n",
    "2.Several sequence types\n",
    "3.Strings ’…’: made of characters, immutable\n",
    "4.Lists […]: made of anything, mutable\n",
    "5.Tuples (…) : made of anything, immutable\n",
    "6.Powerful subscripting (slicing)\n",
    "7.Functions are independent entities (not all functions are methods)\n",
    "8.Exceptions as in Java\n",
    "9.Simple object system\n",
    "10.Iterators (like Java) and generators\n",
    "11.It implies that other languages such as C/C++ can be used to compile the code and thus it can be used further in our python code.\n",
    "12.It can be easily integrated with languages like C, C++, JAVA etc."
   ]
  },
  {
   "cell_type": "code",
   "execution_count": null,
   "metadata": {},
   "outputs": [],
   "source": [
    "#Dynamic typing – the key difference\n",
    " Java: statically typed\n",
    " Variables are declared to refer to objects of a given type\n",
    " Methods use type signatures to enforce contracts\n",
    " Python\n",
    " Variables come into existence when first assigned to\n",
    " A variable can refer to an object of any type\n",
    " All types are (almost) treated the same way\n",
    " Main drawback: "
   ]
  },
  {
   "cell_type": "code",
   "execution_count": null,
   "metadata": {},
   "outputs": [],
   "source": [
    "#Python Version List\n",
    "Python programming language is being updated regularly with new features and supports. \n",
    "There are lots of updations in python versions, started from 1994 to current release.\n",
    "\n",
    "A list of python versions with its released date is given below.\n",
    "\n",
    "Python_Version\t   Released_Date\n",
    "Python 1.0\t       January 1994\n",
    "Python 1.5\t       December 31, 1997\n",
    "Python 1.6\t       September 5, 2000\n",
    "Python 2.0\t       October 16, 2000\n",
    "Python 2.1\t       April 17, 2001\n",
    "Python 2.2\t       December 21, 2001\n",
    "Python 2.3\t       July 29, 2003\n",
    "Python 2.4\t       November 30, 2004\n",
    "Python 2.5\t       September 19, 2006\n",
    "Python 2.6\t       October 1, 2008\n",
    "Python 2.7\t       July 3, 2010\n",
    "Python 3.0\t       December 3, 2008\n",
    "Python 3.1\t       June 27, 2009\n",
    "Python 3.2\t       February 20, 2011\n",
    "Python 3.3         September 29, 2012\n",
    "Python 3.4\t       March 16, 2014\n",
    "Python 3.5\t       September 13, 2015\n",
    "Python 3.6\t       December 23, 2016\n",
    "Python 3.7\t       June 27, 2018\n",
    "Python 3.8         October 14 , 2019"
   ]
  },
  {
   "cell_type": "code",
   "execution_count": null,
   "metadata": {},
   "outputs": [],
   "source": [
    "#Python_Applications\n",
    "Python is known for its general purpose nature that makes it applicable in almost each domain of software development. Python as a whole can be used in any sphere of development.\n",
    "\n",
    "1.Web Applications\n",
    "\n",
    "2.Desktop GUI Applications\n",
    "\n",
    "3.Software Development\n",
    "\n",
    "4.Scientific and Numeric\n",
    "\n",
    "5.Business Applications\n",
    "\n",
    "6.Console Based Application\n",
    "\n",
    "7.Audio or Video based Applications\n",
    "\n",
    "8.3D CAD Applications\n",
    "\n",
    "9.Enterprise Applications\n",
    "\n",
    "10.Applications for Images\n"
   ]
  }
 ],
 "metadata": {
  "kernelspec": {
   "display_name": "Python 3",
   "language": "python",
   "name": "python3"
  },
  "language_info": {
   "codemirror_mode": {
    "name": "ipython",
    "version": 3
   },
   "file_extension": ".py",
   "mimetype": "text/x-python",
   "name": "python",
   "nbconvert_exporter": "python",
   "pygments_lexer": "ipython3",
   "version": "3.7.3"
  }
 },
 "nbformat": 4,
 "nbformat_minor": 2
}
